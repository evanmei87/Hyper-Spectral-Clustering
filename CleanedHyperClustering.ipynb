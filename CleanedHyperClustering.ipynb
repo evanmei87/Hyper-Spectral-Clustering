{
 "cells": [
  {
   "cell_type": "code",
   "execution_count": 3,
   "metadata": {},
   "outputs": [],
   "source": [
    "import numpy as np\n",
    "import K_Means_Cluster as clusterMod\n",
    "from matplotlib import pylab as plt\n",
    "import time\n",
    "import os\n",
    "import sys\n",
    "from matplotlib import style \n",
    "style.use('ggplot')\n",
    "colors = 10*[\"g\",\"r\",\"c\",\"b\",\"k\"]"
   ]
  },
  {
   "cell_type": "code",
   "execution_count": 4,
   "metadata": {},
   "outputs": [],
   "source": [
    "def locateFiles(): #locates the files in the folder and assigns them to a directory\n",
    "    directory = {}\n",
    "    listdir = os.listdir(\"Raw_Data_with_hdr\") # access the folder\n",
    "    \n",
    "    for file in listdir:\n",
    "        key = find_between(file,\"raw_\", \"_\")\n",
    "        try:\n",
    "            if key is \"\" or not(file.endswith(\".raw\") or file.endswith(\".hdr\") or file.endswith('_rd')):\n",
    "                raise ValueError (file, \" :Either the name of this file is not formatted correctly or the type is incorrect\")\n",
    "        except ValueError as exc:\n",
    "            print(exc)\n",
    "            print(\" \")\n",
    "            print(\"Please refer to the readme\")\n",
    "            sys.exit()\n",
    "\n",
    "        if key in directory:\n",
    "            if file.endswith('.raw') or file.endswith('_rd'):\n",
    "                directory[key] = [file, directory[key][0]]\n",
    "            else:\n",
    "                directory[key].append(file)\n",
    "            try:\n",
    "                if len(directory[key]) > 2:\n",
    "                    raise ValueError (directory[key], \" :there are more than two files with the same name\")\n",
    "            except ValueError as exc:\n",
    "                print(exc)\n",
    "                print(\" \")\n",
    "                print(\"Please refer to the readme\")\n",
    "                sys.exit()\n",
    "        else:\n",
    "            directory[key] = [file]\n",
    "    return directory"
   ]
  },
  {
   "cell_type": "code",
   "execution_count": 5,
   "metadata": {},
   "outputs": [],
   "source": [
    "def find_between( s, first, last ): #helper method to isolate numbers in a list\n",
    "        try:\n",
    "            start = s.index( first ) + len( first )\n",
    "            end = s.index( last, start )\n",
    "            return s[start:end]\n",
    "        except ValueError:\n",
    "            return \"\""
   ]
  },
  {
   "cell_type": "code",
   "execution_count": 6,
   "metadata": {},
   "outputs": [],
   "source": [
    "def readFileFromDirectory(key, hdr): #reads files from the file folder using the directory names\n",
    "    #hdr = 1 to designate we are looking for header file, 0 to just read raw file\n",
    "    \n",
    "    script_dir =  os.path.dirname(os.path.realpath('__file__'))\n",
    "    rel_path = ('Raw_Data_with_hdr\\\\') + (directory[key][0])\n",
    "    if hdr is 1:\n",
    "        rel_path = ('Raw_Data_with_hdr\\\\') + (directory[key][1])\n",
    "        abs_file_path = os.path.join(script_dir, rel_path)\n",
    "        with open(abs_file_path, 'r') as file: \n",
    "            headerFile = file.read().splitlines()\n",
    "        return headerFile\n",
    "    else:\n",
    "        abs_file_path = os.path.join(script_dir, rel_path)\n",
    "        raw_data = np.fromfile(abs_file_path, dtype='>H', sep=\"\")\n",
    "        return raw_data"
   ]
  },
  {
   "cell_type": "code",
   "execution_count": 7,
   "metadata": {},
   "outputs": [],
   "source": [
    "def processRawData(length, width, num_bands, keys):\n",
    "#processing the raw data into a more readable format\n",
    "#length(rows) X width(col) X bands(depth),, keys = file number we are looking at\n",
    "    raw_data = readFileFromDirectory(keys,0)\n",
    "\n",
    "    processed = np.empty(shape=(length,width, num_bands))\n",
    "    process_start_time = time.time()\n",
    "    counter = 0\n",
    "    for x in range(num_bands):\n",
    "        for j in range(length):\n",
    "            for i in range(width):\n",
    "                if counter >= raw_data.size:\n",
    "                    break\n",
    "                g = raw_data[counter]\n",
    "                processed[j][i][x] = g\n",
    "                counter += 1\n",
    "    process_total_time = time.time() - process_start_time\n",
    "    print(\"Time to Process: \", process_total_time, \"seconds\")\n",
    "    return processed"
   ]
  },
  {
   "cell_type": "code",
   "execution_count": 13,
   "metadata": {},
   "outputs": [],
   "source": [
    "def writeToFile(clusterCords, key):\n",
    "#input clusterCords = (dictionary object. dictkeys = cluster number, items = array in form [row, column])\n",
    "#      key = file number we are working with\n",
    "    remap = np.zeros((length,width))\n",
    "    for group in clusterCords:\n",
    "        for featureset in clusterCords[group]:\n",
    "            remap[featureset[0]][featureset[1]] = str(group)\n",
    "    title = str(key) + \"_file_\" + \"output\" + \".txt\"\n",
    "    np.savetxt(title, remap, fmt='%.2f')"
   ]
  },
  {
   "cell_type": "code",
   "execution_count": 10,
   "metadata": {},
   "outputs": [
    {
     "name": "stdout",
     "output_type": "stream",
     "text": [
      "Time to Process:  37.12942600250244 seconds\n",
      "Time to Cluster:  336.6086800098419 seconds\n"
     ]
    }
   ],
   "source": [
    "#if __name__ == '__main__':\n",
    "directory = locateFiles()\n",
    "#for keys in directory:\n",
    "keys = '0'\n",
    "if keys is '0':\n",
    "    header = readFileFromDirectory(keys, 1)    \n",
    "    length = int(header[3].split(\" = \",1)[1])\n",
    "    width = int(header[2].split(\" = \",1)[1])\n",
    "    bands = int(header[4].split(\" = \",1)[1])\n",
    "    \n",
    "    \n",
    "    processed = processRawData(length, width, bands, keys)\n",
    "    \n",
    "    cluster_start_time = time.time()\n",
    "    clf = clusterMod.K_Means(k = 2, max_width = min(length, width), max_iter = 10)\n",
    "    clf.fit(processed)\n",
    "    cluster_total_time = time.time() - cluster_start_time\n",
    "    \n",
    "    print(\"Time to Cluster: \", cluster_total_time, \"seconds\")\n",
    "    \n",
    "    writeToFile(clf.cluster_cords, keys) \n",
    "    #write to the coordinates with their group to an output file titled (file number)output.txt"
   ]
  },
  {
   "cell_type": "code",
   "execution_count": null,
   "metadata": {},
   "outputs": [],
   "source": []
  },
  {
   "cell_type": "code",
   "execution_count": null,
   "metadata": {},
   "outputs": [],
   "source": []
  }
 ],
 "metadata": {
  "kernelspec": {
   "display_name": "Python 3",
   "language": "python",
   "name": "python3"
  },
  "language_info": {
   "codemirror_mode": {
    "name": "ipython",
    "version": 3
   },
   "file_extension": ".py",
   "mimetype": "text/x-python",
   "name": "python",
   "nbconvert_exporter": "python",
   "pygments_lexer": "ipython3",
   "version": "3.6.4"
  }
 },
 "nbformat": 4,
 "nbformat_minor": 2
}
